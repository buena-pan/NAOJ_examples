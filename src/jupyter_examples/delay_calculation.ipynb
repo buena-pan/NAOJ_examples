{
 "cells": [
  {
   "cell_type": "code",
   "execution_count": 38,
   "metadata": {},
   "outputs": [
    {
     "name": "stdout",
     "output_type": "stream",
     "text": [
      "Total delay in samples: -172.7944\n",
      "Coarse delay in samples: 400172\n",
      "fine delay in 1/16 samples: 13\n",
      "-0.794399999999996\n",
      "Residual delay in rads: 0.11372565405997566\n"
     ]
    }
   ],
   "source": [
    "%matplotlib inline\n",
    "import numpy as np\n",
    "\n",
    "#example of delay calculation\n",
    "\n",
    "#Starting with a known value from delay table\n",
    "#Usually looks like: \n",
    "# Timestamp                 delay\n",
    "# 2017-07-09T00:06:28.704   -4.31986e-8 \n",
    "\n",
    "ACACORR_fixed_sample_rate = 200000\n",
    "CORR_fixed_sample_rate = 400000\n",
    "given_delay = -4.31986e-8\n",
    "\n",
    "#in this case we will be calculating values from CORR\n",
    "What_is_this =  4e9\n",
    "total_delay_in_samples = given_delay * What_is_this\n",
    "print(\"Total delay in samples: \" + str(total_delay_in_samples) )\n",
    "#the coarse part recover the integer part of the operation\n",
    "\n",
    "coarse_delay = int (CORR_fixed_sample_rate - total_delay_in_samples )\n",
    "print(\"Coarse delay in samples: \" + str(coarse_delay))\n",
    "#meanwhile the fine part recover a round fractional value in /16 steps\n",
    "fractional_part = total_delay_in_samples - int(total_delay_in_samples)\n",
    "fine_delay = round ( -(fractional_part) * 16 )\n",
    "print(\"fine delay in 1/16 samples: \" + str(fine_delay))\n",
    "\n",
    "#Residual delay is the rest of delay that cannot be converted by fine delay, expressed in rads\n",
    "print(fractional_part)\n",
    "residual_delay = (fractional_part*16 + fine_delay) * 2 * np.pi /16     \n",
    "print(\"Residual delay in rads: \" + str(residual_delay))"
   ]
  }
 ],
 "metadata": {
  "kernelspec": {
   "display_name": "Python 3",
   "language": "python",
   "name": "python3"
  },
  "language_info": {
   "codemirror_mode": {
    "name": "ipython",
    "version": 3
   },
   "file_extension": ".py",
   "mimetype": "text/x-python",
   "name": "python",
   "nbconvert_exporter": "python",
   "pygments_lexer": "ipython3",
   "version": "3.11.5"
  },
  "orig_nbformat": 4
 },
 "nbformat": 4,
 "nbformat_minor": 2
}
